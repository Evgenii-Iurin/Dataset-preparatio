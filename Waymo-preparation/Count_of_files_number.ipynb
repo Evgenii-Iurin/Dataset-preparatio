{
 "cells": [
  {
   "cell_type": "code",
   "execution_count": null,
   "id": "82e2084c",
   "metadata": {},
   "outputs": [],
   "source": [
    "import os\n",
    "import tqdm\n",
    "\n",
    "path = '/nfs-home/Prepare_Waymo_Dataset/Wa'\n",
    "\n",
    "trf_files_number = 0;\n",
    "gstmp_files_numbers = 0;\n",
    "jpg_files_number = 0;\n",
    "txt_files_number = 0;\n",
    "\n",
    "for file in tqdm.tqdm(os.listdir(path)):\n",
    "    if file.endswith('.tfrecord'):\n",
    "        trf_files_number +=1 \n",
    "    elif (file.endswith('.gstmp')):\n",
    "        gstmp_files_numbers +=1\n",
    "    elif (file.endswith('.jpg')):\n",
    "        jpg_files_number +=1\n",
    "    elif (file.endswith('.txt')):\n",
    "        txt_files_number +=1\n",
    "print(f'TFR files: {trf_files_number}\\nGSTMP files: {gstmp_files_numbers}\\nImages: {jpg_files_number}\\nTxt files: {txt_files_number}')"
   ]
  }
 ],
 "metadata": {
  "kernelspec": {
   "display_name": "Python 3 (ipykernel)",
   "language": "python",
   "name": "python3"
  },
  "language_info": {
   "codemirror_mode": {
    "name": "ipython",
    "version": 3
   },
   "file_extension": ".py",
   "mimetype": "text/x-python",
   "name": "python",
   "nbconvert_exporter": "python",
   "pygments_lexer": "ipython3",
   "version": "3.8.10"
  }
 },
 "nbformat": 4,
 "nbformat_minor": 5
}

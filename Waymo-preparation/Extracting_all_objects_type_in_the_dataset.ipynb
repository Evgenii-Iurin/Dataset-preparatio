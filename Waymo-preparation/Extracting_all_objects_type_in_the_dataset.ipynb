{
 "cells": [
  {
   "cell_type": "code",
   "execution_count": null,
   "id": "96139581",
   "metadata": {},
   "outputs": [],
   "source": [
    "FILE_PATH = '/nfs-home/Prepare_Waymo_Dataset/extracting_data_from_waymo/'\n",
    "FILENAME = 'individual_files_training_segment-10596949720463106554_1933_530_1953_530_with_camera_labels.tfrecord'\n",
    "\n",
    "def extract_lable(FILE_NAME,FILE_PATH, object_name = []):\n",
    "    \"\"\" Exctract all objects name\n",
    "\n",
    "    Parameters\n",
    "    ----------\n",
    "    FILE_NAME - file name to extract labels name\n",
    "    \n",
    "    FILE_PATH - relative file path\n",
    "\n",
    "\n",
    "    Return\n",
    "    ----------\n",
    "    Return all unique label names that appear in this file.\n",
    "    \n",
    "\n",
    "    \"\"\"\n",
    "    \n",
    "    tfr_record_file = tf.data.TFRecordDataset(FILE_PATH+FILE_NAME, compression_type='')\n",
    "\n",
    "    for data in tfr_record_file:\n",
    "        \"\"\" Read one frame  \"\"\"\n",
    "        frame = open_dataset.Frame()\n",
    "        frame.ParseFromString(bytearray(data.numpy()))\n",
    "        \n",
    "        \"\"\" Take the object label for each frame \"\"\"\n",
    "        #-- Each frame contains 5 images --# \n",
    "        for objects in frame.camera_labels:\n",
    "            if len(objects.labels):                          \n",
    "                for label in objects.labels:\n",
    "                    \n",
    "                    \"\"\" If the label is not empty and contains a non-repeating label name, print it \"\"\"\n",
    "                    if not (label.type in object_name):\n",
    "                        object_name.append(label.type)\n",
    "                        print(f'{label}\\n{label.type}\\n')\n",
    "\n",
    "extract_lable(FILENAME, FILE_PATH)"
   ]
  }
 ],
 "metadata": {
  "kernelspec": {
   "display_name": "Python 3 (ipykernel)",
   "language": "python",
   "name": "python3"
  },
  "language_info": {
   "codemirror_mode": {
    "name": "ipython",
    "version": 3
   },
   "file_extension": ".py",
   "mimetype": "text/x-python",
   "name": "python",
   "nbconvert_exporter": "python",
   "pygments_lexer": "ipython3",
   "version": "3.8.10"
  }
 },
 "nbformat": 4,
 "nbformat_minor": 5
}

{
 "cells": [
  {
   "cell_type": "code",
   "execution_count": 1,
   "id": "48ef2337",
   "metadata": {},
   "outputs": [],
   "source": [
    "import os\n",
    "import json\n",
    "import tqdm"
   ]
  },
  {
   "cell_type": "code",
   "execution_count": 43,
   "id": "f8f5f5a3",
   "metadata": {},
   "outputs": [
    {
     "name": "stderr",
     "output_type": "stream",
     "text": [
      "100%|██████████| 69863/69863 [00:00<00:00, 103512.45it/s]"
     ]
    },
    {
     "name": "stdout",
     "output_type": "stream",
     "text": [
      "['traffic light', 'traffic sign', 'car', 'drivable area', 'lane', 'person', 'bus', 'truck', 'rider', 'bike', 'motor', 'train']\n"
     ]
    },
    {
     "name": "stderr",
     "output_type": "stream",
     "text": [
      "\n"
     ]
    }
   ],
   "source": [
    "PATH = '/nfs-home/Prepare_BDD100K_in_the_YOLO_format/JSON_Labels/train_labels/'\n",
    "FILE_NAME = 'bdd100k_labels_images_train.json'\n",
    "RELATIVE_PATH = PATH + FILE_NAME\n",
    "categories = []\n",
    "\n",
    "\n",
    "\"\"\" Load JSON file \"\"\"\n",
    "def load_json_file(path):\n",
    "    with open(path) as json_file:\n",
    "        json_object = json.load(json_file)\n",
    "    return json_object\n",
    "\n",
    "\n",
    "\"\"\" Sort duplicate categories \"\"\"\n",
    "def sort_collection(category):\n",
    "    if not category in categories:\n",
    "        categories.append(category)\n",
    "    return\n",
    "\n",
    "\n",
    "\"\"\" Collects all categories in each image dictionary \"\"\"\n",
    "def collect_categories(path):\n",
    "\n",
    "    data = load_json_file(path)\n",
    "    \n",
    "    for image_dict in tqdm.tqdm(range(len(data))):\n",
    "        for i in range(len(data[image_dict]['labels'])):\n",
    "            sort_collection(data[image_dict]['labels'][i]['category'])\n",
    "    return\n",
    "\n",
    "\n",
    "def main():\n",
    "    collect_categories(RELATIVE_PATH)\n",
    "    print(categories)\n",
    "\n",
    "if __name__ == '__main__':\n",
    "    main()"
   ]
  },
  {
   "cell_type": "code",
   "execution_count": 87,
   "id": "05fb6846",
   "metadata": {},
   "outputs": [],
   "source": [
    "# print(len(categories)\n",
    "if os.path.exists('categories.txt'):\n",
    "    os.remove('categories.txt')\n",
    "\n",
    "with open(\"categories.txt\", \"w\") as f:\n",
    "    for num_category in range(len(categories)):\n",
    "        f.write(f'{num_category+1}: {categories[num_category]}')\n",
    "        f.write(\"\\n\")"
   ]
  }
 ],
 "metadata": {
  "kernelspec": {
   "display_name": "Python 3 (ipykernel)",
   "language": "python",
   "name": "python3"
  },
  "language_info": {
   "codemirror_mode": {
    "name": "ipython",
    "version": 3
   },
   "file_extension": ".py",
   "mimetype": "text/x-python",
   "name": "python",
   "nbconvert_exporter": "python",
   "pygments_lexer": "ipython3",
   "version": "3.8.10"
  }
 },
 "nbformat": 4,
 "nbformat_minor": 5
}
